{
 "cells": [
  {
   "cell_type": "code",
   "execution_count": 1,
   "metadata": {},
   "outputs": [
    {
     "data": {
      "text/plain": [
       "{'SPARK_HOME': '/Users/mparsian/spark-2.4.4',\n",
       " 'TERM_PROGRAM': 'iTerm.app',\n",
       " 'TERM': 'xterm-color',\n",
       " 'SHELL': '/bin/bash',\n",
       " 'CLICOLOR': '1',\n",
       " 'TMPDIR': '/var/folders/64/7fnc2mzx0jd5nhch32xwb1hhrhxtnh/T/',\n",
       " 'PERL5LIB': '/Users/mparsian/zmp/zs/vcftools_0.1.10/perl',\n",
       " 'TERM_PROGRAM_VERSION': '3.3.7beta2',\n",
       " 'TERM_SESSION_ID': 'w0t0p0:02AAD6C1-47ED-45DD-AC08-A774BD540E75',\n",
       " 'USER': 'mparsian',\n",
       " 'PYSPARK_PYTHON': 'python3',\n",
       " 'SSH_AUTH_SOCK': '/private/tmp/com.apple.launchd.9x7db7Rcfi/Listeners',\n",
       " '__CF_USER_TEXT_ENCODING': '0x310EEAB0:0x0:0x0',\n",
       " 'BOOK_HOME': '/Users/mparsian/zmp/github/data-algorithms-book',\n",
       " 'LSCOLORS': 'ExFxCxDxBxegedabagacad',\n",
       " 'PATH': '/usr/local/opt/bison/bin:/usr/local/opt/bison/bin:/Library/Frameworks/Python.framework/Versions/3.7/bin:/Library/Frameworks/Python.framework/Versions/3.7/bin:/Library/Frameworks/Python.framework/Versions/3.7/bin:/Library/Frameworks/Python.framework/Versions/3.6/bin:/Users/mparsian/spark-2.4.4/sbin:/Users/mparsian/spark-2.4.4/bin:.:/Library/Java/JavaVirtualMachines/jdk1.8.0_144.jdk/Contents/Home/bin:/usr/local/bin:/usr/bin:/bin:/usr/sbin:/sbin:/Library/TeX/texbin:/opt/X11/bin:/usr/local/git/bin',\n",
       " 'HIVE_HOME': '/Users/mparsian/hive-2.3.2-bin',\n",
       " 'PWD': '/Users/mparsian',\n",
       " 'JAVA_HOME': '/Library/Java/JavaVirtualMachines/jdk1.8.0_144.jdk/Contents/Home',\n",
       " 'EDITOR': '/usr/local/bin/mate -w',\n",
       " 'LANG': 'en_US.UTF-8',\n",
       " 'ITERM_PROFILE': 'Default',\n",
       " 'mp': 'root@192.168.4.86',\n",
       " 'XPC_FLAGS': '0x0',\n",
       " 'PS1': '\\\\u@\\\\h \\\\[\\\\033[32m\\\\]\\\\w\\\\[\\\\033[33m\\\\]$(parse_git_branch)\\\\[\\\\033[00m\\\\] $ ',\n",
       " 'XPC_SERVICE_NAME': '0',\n",
       " 'SHLVL': '1',\n",
       " 'HOME': '/Users/mparsian',\n",
       " 'COLORFGBG': '0;15',\n",
       " 'LC_TERMINAL_VERSION': '3.3.7beta2',\n",
       " 'ITERM_SESSION_ID': 'w0t0p0:02AAD6C1-47ED-45DD-AC08-A774BD540E75',\n",
       " 'wf': '/Users/mparsian/dev/workspace/datahub_workflow',\n",
       " 'LOGNAME': 'mparsian',\n",
       " 'GROOVY_HOME': '/usr/local/opt/groovy/libexec',\n",
       " 'LC_TERMINAL': 'iTerm2',\n",
       " 'DISPLAY': '/private/tmp/com.apple.launchd.acmf4H955E/org.macosforge.xquartz:0',\n",
       " 'COLORTERM': 'truecolor',\n",
       " '_': '/Library/Frameworks/Python.framework/Versions/3.7/bin/jupyter',\n",
       " '__PYVENV_LAUNCHER__': '/Library/Frameworks/Python.framework/Versions/3.7/bin/python3',\n",
       " 'KERNEL_LAUNCH_TIMEOUT': '40',\n",
       " 'JPY_PARENT_PID': '59422',\n",
       " 'PAGER': 'cat',\n",
       " 'GIT_PAGER': 'cat',\n",
       " 'MPLBACKEND': 'module://ipykernel.pylab.backend_inline'}"
      ]
     },
     "execution_count": 1,
     "metadata": {},
     "output_type": "execute_result"
    }
   ],
   "source": [
    "env"
   ]
  },
  {
   "cell_type": "code",
   "execution_count": 2,
   "metadata": {},
   "outputs": [
    {
     "name": "stdout",
     "output_type": "stream",
     "text": [
      "hello mp\n"
     ]
    }
   ],
   "source": [
    "print(\"hello mp\")"
   ]
  },
  {
   "cell_type": "code",
   "execution_count": 3,
   "metadata": {},
   "outputs": [
    {
     "name": "stdout",
     "output_type": "stream",
     "text": [
      "hello mp\n"
     ]
    }
   ],
   "source": [
    "print(\"hello mp\")"
   ]
  },
  {
   "cell_type": "code",
   "execution_count": null,
   "metadata": {},
   "outputs": [],
   "source": []
  },
  {
   "cell_type": "code",
   "execution_count": 4,
   "metadata": {},
   "outputs": [
    {
     "ename": "SyntaxError",
     "evalue": "invalid syntax (<ipython-input-4-e09a03cff653>, line 1)",
     "output_type": "error",
     "traceback": [
      "\u001b[0;36m  File \u001b[0;32m\"<ipython-input-4-e09a03cff653>\"\u001b[0;36m, line \u001b[0;32m1\u001b[0m\n\u001b[0;31m    == test\u001b[0m\n\u001b[0m     ^\u001b[0m\n\u001b[0;31mSyntaxError\u001b[0m\u001b[0;31m:\u001b[0m invalid syntax\n"
     ]
    }
   ],
   "source": [
    "== test"
   ]
  },
  {
   "cell_type": "code",
   "execution_count": 5,
   "metadata": {},
   "outputs": [
    {
     "ename": "NameError",
     "evalue": "name 'TEST' is not defined",
     "output_type": "error",
     "traceback": [
      "\u001b[0;31m---------------------------------------------------------------------------\u001b[0m",
      "\u001b[0;31mNameError\u001b[0m                                 Traceback (most recent call last)",
      "\u001b[0;32m<ipython-input-5-298a77343eb3>\u001b[0m in \u001b[0;36m<module>\u001b[0;34m\u001b[0m\n\u001b[0;32m----> 1\u001b[0;31m \u001b[0;34m-\u001b[0m\u001b[0;34m-\u001b[0m \u001b[0mTEST\u001b[0m\u001b[0;34m\u001b[0m\u001b[0;34m\u001b[0m\u001b[0m\n\u001b[0m",
      "\u001b[0;31mNameError\u001b[0m: name 'TEST' is not defined"
     ]
    }
   ],
   "source": [
    "-- TEST"
   ]
  },
  {
   "cell_type": "code",
   "execution_count": 6,
   "metadata": {},
   "outputs": [],
   "source": [
    "# comment "
   ]
  },
  {
   "cell_type": "code",
   "execution_count": null,
   "metadata": {},
   "outputs": [],
   "source": []
  }
 ],
 "metadata": {
  "kernelspec": {
   "display_name": "Python 3",
   "language": "python",
   "name": "python3"
  },
  "language_info": {
   "codemirror_mode": {
    "name": "ipython",
    "version": 3
   },
   "file_extension": ".py",
   "mimetype": "text/x-python",
   "name": "python",
   "nbconvert_exporter": "python",
   "pygments_lexer": "ipython3",
   "version": "3.7.2"
  }
 },
 "nbformat": 4,
 "nbformat_minor": 2
}
